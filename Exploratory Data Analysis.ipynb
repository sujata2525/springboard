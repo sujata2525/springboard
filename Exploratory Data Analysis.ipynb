{
 "cells": [
  {
   "cell_type": "code",
   "execution_count": 35,
   "metadata": {
    "collapsed": true
   },
   "outputs": [],
   "source": [
    "import matplotlib.pyplot as plt"
   ]
  },
  {
   "cell_type": "code",
   "execution_count": 9,
   "metadata": {
    "collapsed": true
   },
   "outputs": [],
   "source": [
    "import seaborn as sns"
   ]
  },
  {
   "cell_type": "code",
   "execution_count": 8,
   "metadata": {
    "collapsed": true
   },
   "outputs": [],
   "source": [
    "import numpy as np"
   ]
  },
  {
   "cell_type": "code",
   "execution_count": 7,
   "metadata": {
    "collapsed": true
   },
   "outputs": [],
   "source": [
    "import pandas as pd"
   ]
  },
  {
   "cell_type": "code",
   "execution_count": 11,
   "metadata": {},
   "outputs": [],
   "source": [
    "claims = pd.read_csv(\"C:\\Personal\\Springboard\\CapstoneProject\\Heritage\\DataFiles\\Claims.csv\")"
   ]
  },
  {
   "cell_type": "code",
   "execution_count": 13,
   "metadata": {},
   "outputs": [
    {
     "data": {
      "text/plain": [
       "(693191, 14)"
      ]
     },
     "execution_count": 13,
     "metadata": {},
     "output_type": "execute_result"
    }
   ],
   "source": [
    "claims.shape"
   ]
  },
  {
   "cell_type": "code",
   "execution_count": 14,
   "metadata": {},
   "outputs": [
    {
     "data": {
      "text/html": [
       "<div>\n",
       "<style>\n",
       "    .dataframe thead tr:only-child th {\n",
       "        text-align: right;\n",
       "    }\n",
       "\n",
       "    .dataframe thead th {\n",
       "        text-align: left;\n",
       "    }\n",
       "\n",
       "    .dataframe tbody tr th {\n",
       "        vertical-align: top;\n",
       "    }\n",
       "</style>\n",
       "<table border=\"1\" class=\"dataframe\">\n",
       "  <thead>\n",
       "    <tr style=\"text-align: right;\">\n",
       "      <th></th>\n",
       "      <th>MemberID</th>\n",
       "      <th>ProviderID</th>\n",
       "      <th>Vendor</th>\n",
       "      <th>PCP</th>\n",
       "      <th>Year</th>\n",
       "      <th>Specialty</th>\n",
       "      <th>PlaceSvc</th>\n",
       "      <th>PayDelay</th>\n",
       "      <th>LengthOfStay</th>\n",
       "      <th>DSFS</th>\n",
       "      <th>PrimaryConditionGroup</th>\n",
       "      <th>CharlsonIndex</th>\n",
       "      <th>ProcedureGroup</th>\n",
       "      <th>SupLOS</th>\n",
       "    </tr>\n",
       "  </thead>\n",
       "  <tbody>\n",
       "    <tr>\n",
       "      <th>0</th>\n",
       "      <td>42286978</td>\n",
       "      <td>8013252.0</td>\n",
       "      <td>172193.0</td>\n",
       "      <td>37796.0</td>\n",
       "      <td>Y1</td>\n",
       "      <td>Surgery</td>\n",
       "      <td>Office</td>\n",
       "      <td>28</td>\n",
       "      <td>NaN</td>\n",
       "      <td>8- 9 months</td>\n",
       "      <td>NEUMENT</td>\n",
       "      <td>0</td>\n",
       "      <td>MED</td>\n",
       "      <td>0</td>\n",
       "    </tr>\n",
       "    <tr>\n",
       "      <th>1</th>\n",
       "      <td>11837054</td>\n",
       "      <td>7557061.0</td>\n",
       "      <td>496247.0</td>\n",
       "      <td>68968.0</td>\n",
       "      <td>Y2</td>\n",
       "      <td>Surgery</td>\n",
       "      <td>Outpatient Hospital</td>\n",
       "      <td>27</td>\n",
       "      <td>NaN</td>\n",
       "      <td>4- 5 months</td>\n",
       "      <td>FXDISLC</td>\n",
       "      <td>2-Jan</td>\n",
       "      <td>EM</td>\n",
       "      <td>0</td>\n",
       "    </tr>\n",
       "    <tr>\n",
       "      <th>2</th>\n",
       "      <td>99829076</td>\n",
       "      <td>6721023.0</td>\n",
       "      <td>265273.0</td>\n",
       "      <td>91972.0</td>\n",
       "      <td>Y1</td>\n",
       "      <td>Rehabilitation</td>\n",
       "      <td>Office</td>\n",
       "      <td>162+</td>\n",
       "      <td>NaN</td>\n",
       "      <td>0- 1 month</td>\n",
       "      <td>TRAUMA</td>\n",
       "      <td>0</td>\n",
       "      <td>MED</td>\n",
       "      <td>0</td>\n",
       "    </tr>\n",
       "    <tr>\n",
       "      <th>3</th>\n",
       "      <td>54666321</td>\n",
       "      <td>9932074.0</td>\n",
       "      <td>35565.0</td>\n",
       "      <td>27294.0</td>\n",
       "      <td>Y1</td>\n",
       "      <td>Diagnostic Imaging</td>\n",
       "      <td>Office</td>\n",
       "      <td>29</td>\n",
       "      <td>NaN</td>\n",
       "      <td>0- 1 month</td>\n",
       "      <td>RESPR4</td>\n",
       "      <td>0</td>\n",
       "      <td>RAD</td>\n",
       "      <td>0</td>\n",
       "    </tr>\n",
       "    <tr>\n",
       "      <th>4</th>\n",
       "      <td>60497718</td>\n",
       "      <td>363858.0</td>\n",
       "      <td>293107.0</td>\n",
       "      <td>64913.0</td>\n",
       "      <td>Y2</td>\n",
       "      <td>Rehabilitation</td>\n",
       "      <td>Office</td>\n",
       "      <td>42</td>\n",
       "      <td>NaN</td>\n",
       "      <td>1- 2 months</td>\n",
       "      <td>INFEC4</td>\n",
       "      <td>0</td>\n",
       "      <td>EM</td>\n",
       "      <td>0</td>\n",
       "    </tr>\n",
       "  </tbody>\n",
       "</table>\n",
       "</div>"
      ],
      "text/plain": [
       "   MemberID  ProviderID    Vendor      PCP Year           Specialty  \\\n",
       "0  42286978   8013252.0  172193.0  37796.0   Y1             Surgery   \n",
       "1  11837054   7557061.0  496247.0  68968.0   Y2             Surgery   \n",
       "2  99829076   6721023.0  265273.0  91972.0   Y1      Rehabilitation   \n",
       "3  54666321   9932074.0   35565.0  27294.0   Y1  Diagnostic Imaging   \n",
       "4  60497718    363858.0  293107.0  64913.0   Y2      Rehabilitation   \n",
       "\n",
       "              PlaceSvc PayDelay LengthOfStay         DSFS  \\\n",
       "0               Office       28          NaN  8- 9 months   \n",
       "1  Outpatient Hospital       27          NaN  4- 5 months   \n",
       "2               Office     162+          NaN   0- 1 month   \n",
       "3               Office       29          NaN   0- 1 month   \n",
       "4               Office       42          NaN  1- 2 months   \n",
       "\n",
       "  PrimaryConditionGroup CharlsonIndex ProcedureGroup  SupLOS  \n",
       "0               NEUMENT             0            MED       0  \n",
       "1               FXDISLC         2-Jan             EM       0  \n",
       "2                TRAUMA             0            MED       0  \n",
       "3                RESPR4             0            RAD       0  \n",
       "4                INFEC4             0             EM       0  "
      ]
     },
     "execution_count": 14,
     "metadata": {},
     "output_type": "execute_result"
    }
   ],
   "source": [
    "claims.head()"
   ]
  },
  {
   "cell_type": "code",
   "execution_count": 15,
   "metadata": {},
   "outputs": [
    {
     "data": {
      "text/html": [
       "<div>\n",
       "<style>\n",
       "    .dataframe thead tr:only-child th {\n",
       "        text-align: right;\n",
       "    }\n",
       "\n",
       "    .dataframe thead th {\n",
       "        text-align: left;\n",
       "    }\n",
       "\n",
       "    .dataframe tbody tr th {\n",
       "        vertical-align: top;\n",
       "    }\n",
       "</style>\n",
       "<table border=\"1\" class=\"dataframe\">\n",
       "  <thead>\n",
       "    <tr style=\"text-align: right;\">\n",
       "      <th></th>\n",
       "      <th>count</th>\n",
       "      <th>mean</th>\n",
       "      <th>std</th>\n",
       "      <th>min</th>\n",
       "      <th>25%</th>\n",
       "      <th>50%</th>\n",
       "      <th>75%</th>\n",
       "      <th>max</th>\n",
       "    </tr>\n",
       "  </thead>\n",
       "  <tbody>\n",
       "    <tr>\n",
       "      <th>MemberID</th>\n",
       "      <td>693191.0</td>\n",
       "      <td>5.000894e+07</td>\n",
       "      <td>2.892682e+07</td>\n",
       "      <td>210.0</td>\n",
       "      <td>24790721.0</td>\n",
       "      <td>49938380.0</td>\n",
       "      <td>75353404.0</td>\n",
       "      <td>99998824.0</td>\n",
       "    </tr>\n",
       "    <tr>\n",
       "      <th>ProviderID</th>\n",
       "      <td>689311.0</td>\n",
       "      <td>5.084064e+06</td>\n",
       "      <td>2.867307e+06</td>\n",
       "      <td>472.0</td>\n",
       "      <td>2467684.0</td>\n",
       "      <td>5459215.0</td>\n",
       "      <td>7053364.0</td>\n",
       "      <td>9999241.0</td>\n",
       "    </tr>\n",
       "    <tr>\n",
       "      <th>Vendor</th>\n",
       "      <td>687004.0</td>\n",
       "      <td>3.795027e+05</td>\n",
       "      <td>2.702249e+05</td>\n",
       "      <td>39.0</td>\n",
       "      <td>152610.0</td>\n",
       "      <td>251809.0</td>\n",
       "      <td>578075.0</td>\n",
       "      <td>999874.0</td>\n",
       "    </tr>\n",
       "    <tr>\n",
       "      <th>PCP</th>\n",
       "      <td>691272.0</td>\n",
       "      <td>5.130375e+04</td>\n",
       "      <td>2.924152e+04</td>\n",
       "      <td>74.0</td>\n",
       "      <td>27467.0</td>\n",
       "      <td>47804.0</td>\n",
       "      <td>75876.0</td>\n",
       "      <td>99905.0</td>\n",
       "    </tr>\n",
       "    <tr>\n",
       "      <th>SupLOS</th>\n",
       "      <td>693191.0</td>\n",
       "      <td>4.135945e-03</td>\n",
       "      <td>6.417823e-02</td>\n",
       "      <td>0.0</td>\n",
       "      <td>0.0</td>\n",
       "      <td>0.0</td>\n",
       "      <td>0.0</td>\n",
       "      <td>1.0</td>\n",
       "    </tr>\n",
       "  </tbody>\n",
       "</table>\n",
       "</div>"
      ],
      "text/plain": [
       "               count          mean           std    min         25%  \\\n",
       "MemberID    693191.0  5.000894e+07  2.892682e+07  210.0  24790721.0   \n",
       "ProviderID  689311.0  5.084064e+06  2.867307e+06  472.0   2467684.0   \n",
       "Vendor      687004.0  3.795027e+05  2.702249e+05   39.0    152610.0   \n",
       "PCP         691272.0  5.130375e+04  2.924152e+04   74.0     27467.0   \n",
       "SupLOS      693191.0  4.135945e-03  6.417823e-02    0.0         0.0   \n",
       "\n",
       "                   50%         75%         max  \n",
       "MemberID    49938380.0  75353404.0  99998824.0  \n",
       "ProviderID   5459215.0   7053364.0   9999241.0  \n",
       "Vendor        251809.0    578075.0    999874.0  \n",
       "PCP            47804.0     75876.0     99905.0  \n",
       "SupLOS             0.0         0.0         1.0  "
      ]
     },
     "execution_count": 15,
     "metadata": {},
     "output_type": "execute_result"
    }
   ],
   "source": [
    "claims.describe().T"
   ]
  },
  {
   "cell_type": "code",
   "execution_count": 21,
   "metadata": {},
   "outputs": [
    {
     "data": {
      "text/plain": [
       "MemberID                   int64\n",
       "ProviderID               float64\n",
       "Vendor                   float64\n",
       "PCP                      float64\n",
       "Year                      object\n",
       "Specialty                 object\n",
       "PlaceSvc                  object\n",
       "PayDelay                  object\n",
       "LengthOfStay              object\n",
       "DSFS                      object\n",
       "PrimaryConditionGroup     object\n",
       "CharlsonIndex             object\n",
       "ProcedureGroup            object\n",
       "SupLOS                     int64\n",
       "dtype: object"
      ]
     },
     "execution_count": 21,
     "metadata": {},
     "output_type": "execute_result"
    }
   ],
   "source": [
    "claims.dtypes"
   ]
  },
  {
   "cell_type": "code",
   "execution_count": 23,
   "metadata": {},
   "outputs": [
    {
     "data": {
      "text/plain": [
       "['MemberID',\n",
       " 'ProviderID',\n",
       " 'Vendor',\n",
       " 'PCP',\n",
       " 'Year',\n",
       " 'Specialty',\n",
       " 'PlaceSvc',\n",
       " 'PayDelay',\n",
       " 'LengthOfStay',\n",
       " 'DSFS',\n",
       " 'PrimaryConditionGroup',\n",
       " 'CharlsonIndex',\n",
       " 'ProcedureGroup',\n",
       " 'SupLOS']"
      ]
     },
     "execution_count": 23,
     "metadata": {},
     "output_type": "execute_result"
    }
   ],
   "source": [
    "claims_columns = claims.columns.tolist()\n",
    "claims_columns"
   ]
  },
  {
   "cell_type": "code",
   "execution_count": 37,
   "metadata": {},
   "outputs": [
    {
     "data": {
      "image/png": "[encoded data removed]",
      "text/plain": [
       "<matplotlib.figure.Figure at 0xabfd0b8>"
      ]
     },
     "metadata": {},
     "output_type": "display_data"
    }
   ],
   "source": [
    "# find specialty and member count\n",
    "(claims['Specialty']\n",
    " .value_counts(sort=True)\n",
    " .plot.barh()\n",
    " .set_title('Number of Members by Specialty')\n",
    ")\n",
    "plt.show()\n",
    "\n",
    "# Insight: Highest number of members assigned to specialty Laboratory and least number of members assigned to Pathology"
   ]
  },
  {
   "cell_type": "code",
   "execution_count": 47,
   "metadata": {},
   "outputs": [
    {
     "data": {
      "image/png": "[encoded data removed]",
      "text/plain": [
       "<matplotlib.figure.Figure at 0xb37fac8>"
      ]
     },
     "metadata": {},
     "output_type": "display_data"
    }
   ],
   "source": [
    "# find Length of stay and member count\n",
    "(claims['LengthOfStay']\n",
    " .value_counts(sort=True)\n",
    " .plot.barh()\n",
    " .set_title('Number of Members by Length of Stay')\n",
    ")\n",
    "plt.show()\n",
    "\n",
    "# Insight: Most members had 1 day stay at hospital"
   ]
  },
  {
   "cell_type": "code",
   "execution_count": 48,
   "metadata": {},
   "outputs": [
    {
     "data": {
      "image/png": "[encoded data removed]",
      "text/plain": [
       "<matplotlib.figure.Figure at 0xb3686d8>"
      ]
     },
     "metadata": {},
     "output_type": "display_data"
    }
   ],
   "source": [
    "# find Primary condition group and member count\n",
    "(claims['PrimaryConditionGroup']\n",
    " .value_counts(sort=True)\n",
    " .plot.barh()\n",
    " .set_title('Number of Members by Primary Condition')\n",
    ")\n",
    "plt.show()\n",
    "\n",
    "# Insight: "
   ]
  },
  {
   "cell_type": "code",
   "execution_count": 49,
   "metadata": {},
   "outputs": [
    {
     "data": {
      "image/png": "[encoded data removed]",
      "text/plain": [
       "<matplotlib.figure.Figure at 0xb35ac18>"
      ]
     },
     "metadata": {},
     "output_type": "display_data"
    }
   ],
   "source": [
    "# find DSFS and member count\n",
    "(claims['DSFS']\n",
    " .value_counts(sort=True)\n",
    " .plot.barh()\n",
    " .set_title('Number of Members by DSFS')\n",
    ")\n",
    "plt.show()\n",
    "\n",
    "# Insight: days since first service that year is mostly 0-1 for most of the members but some members also show 11-12 months of lag"
   ]
  },
  {
   "cell_type": "code",
   "execution_count": 52,
   "metadata": {
    "collapsed": true
   },
   "outputs": [],
   "source": [
    "members = pd.read_csv(\"C:\\Personal\\Springboard\\CapstoneProject\\Heritage\\DataFiles\\Members.csv\")"
   ]
  },
  {
   "cell_type": "code",
   "execution_count": 53,
   "metadata": {},
   "outputs": [
    {
     "data": {
      "text/plain": [
       "(113000, 3)"
      ]
     },
     "execution_count": 53,
     "metadata": {},
     "output_type": "execute_result"
    }
   ],
   "source": [
    "members.shape"
   ]
  },
  {
   "cell_type": "code",
   "execution_count": 54,
   "metadata": {},
   "outputs": [
    {
     "data": {
      "text/html": [
       "<div>\n",
       "<style>\n",
       "    .dataframe thead tr:only-child th {\n",
       "        text-align: right;\n",
       "    }\n",
       "\n",
       "    .dataframe thead th {\n",
       "        text-align: left;\n",
       "    }\n",
       "\n",
       "    .dataframe tbody tr th {\n",
       "        vertical-align: top;\n",
       "    }\n",
       "</style>\n",
       "<table border=\"1\" class=\"dataframe\">\n",
       "  <thead>\n",
       "    <tr style=\"text-align: right;\">\n",
       "      <th></th>\n",
       "      <th>MemberID</th>\n",
       "      <th>AgeAtFirstClaim</th>\n",
       "      <th>Sex</th>\n",
       "    </tr>\n",
       "  </thead>\n",
       "  <tbody>\n",
       "    <tr>\n",
       "      <th>0</th>\n",
       "      <td>14723353</td>\n",
       "      <td>70-79</td>\n",
       "      <td>M</td>\n",
       "    </tr>\n",
       "    <tr>\n",
       "      <th>1</th>\n",
       "      <td>75706636</td>\n",
       "      <td>70-79</td>\n",
       "      <td>M</td>\n",
       "    </tr>\n",
       "    <tr>\n",
       "      <th>2</th>\n",
       "      <td>17320609</td>\n",
       "      <td>70-79</td>\n",
       "      <td>M</td>\n",
       "    </tr>\n",
       "    <tr>\n",
       "      <th>3</th>\n",
       "      <td>69690888</td>\n",
       "      <td>40-49</td>\n",
       "      <td>M</td>\n",
       "    </tr>\n",
       "    <tr>\n",
       "      <th>4</th>\n",
       "      <td>33004608</td>\n",
       "      <td>0-9</td>\n",
       "      <td>M</td>\n",
       "    </tr>\n",
       "    <tr>\n",
       "      <th>5</th>\n",
       "      <td>63690883</td>\n",
       "      <td>40-49</td>\n",
       "      <td>F</td>\n",
       "    </tr>\n",
       "    <tr>\n",
       "      <th>6</th>\n",
       "      <td>50065607</td>\n",
       "      <td>30-39</td>\n",
       "      <td>M</td>\n",
       "    </tr>\n",
       "    <tr>\n",
       "      <th>7</th>\n",
       "      <td>34270657</td>\n",
       "      <td>70-79</td>\n",
       "      <td>F</td>\n",
       "    </tr>\n",
       "    <tr>\n",
       "      <th>8</th>\n",
       "      <td>75299016</td>\n",
       "      <td>40-49</td>\n",
       "      <td>NaN</td>\n",
       "    </tr>\n",
       "    <tr>\n",
       "      <th>9</th>\n",
       "      <td>22358692</td>\n",
       "      <td>0-9</td>\n",
       "      <td>M</td>\n",
       "    </tr>\n",
       "  </tbody>\n",
       "</table>\n",
       "</div>"
      ],
      "text/plain": [
       "   MemberID AgeAtFirstClaim  Sex\n",
       "0  14723353           70-79    M\n",
       "1  75706636           70-79    M\n",
       "2  17320609           70-79    M\n",
       "3  69690888           40-49    M\n",
       "4  33004608             0-9    M\n",
       "5  63690883           40-49    F\n",
       "6  50065607           30-39    M\n",
       "7  34270657           70-79    F\n",
       "8  75299016           40-49  NaN\n",
       "9  22358692             0-9    M"
      ]
     },
     "execution_count": 54,
     "metadata": {},
     "output_type": "execute_result"
    }
   ],
   "source": [
    "members.head(10)"
   ]
  },
  {
   "cell_type": "code",
   "execution_count": 55,
   "metadata": {},
   "outputs": [
    {
     "data": {
      "image/png": "[encoded data removed]",
      "text/plain": [
       "<matplotlib.figure.Figure at 0xb4e84e0>"
      ]
     },
     "metadata": {},
     "output_type": "display_data"
    }
   ],
   "source": [
    "# find member count by sex\n",
    "(members['Sex']\n",
    " .value_counts(sort=True)\n",
    " .plot.barh()\n",
    " .set_title('Number of Members by Sex')\n",
    ")\n",
    "plt.show()\n",
    "\n",
    "# Insight: More female members in dataset than men"
   ]
  },
  {
   "cell_type": "code",
   "execution_count": 56,
   "metadata": {},
   "outputs": [
    {
     "data": {
      "image/png": "[encoded data removed]",
      "text/plain": [
       "<matplotlib.figure.Figure at 0xb1cbeb8>"
      ]
     },
     "metadata": {},
     "output_type": "display_data"
    }
   ],
   "source": [
    "# find member count by sex\n",
    "(members['AgeAtFirstClaim']\n",
    " .value_counts(sort=True)\n",
    " .plot.barh()\n",
    " .set_title('Number of Members by Age at first claim')\n",
    ")\n",
    "plt.show()\n",
    "\n",
    "# Insight: More members received claim at age 40-49"
   ]
  },
  {
   "cell_type": "code",
   "execution_count": 58,
   "metadata": {},
   "outputs": [
    {
     "data": {
      "text/plain": [
       "MemberID            int64\n",
       "AgeAtFirstClaim    object\n",
       "Sex                object\n",
       "dtype: object"
      ]
     },
     "execution_count": 58,
     "metadata": {},
     "output_type": "execute_result"
    }
   ],
   "source": [
    "members.dtypes"
   ]
  },
  {
   "cell_type": "code",
   "execution_count": 59,
   "metadata": {
    "collapsed": true
   },
   "outputs": [],
   "source": [
    "drugcount = pd.read_csv(\"C:\\Personal\\Springboard\\CapstoneProject\\Heritage\\DataFiles\\DrugCount.csv\")"
   ]
  },
  {
   "cell_type": "code",
   "execution_count": 60,
   "metadata": {},
   "outputs": [
    {
     "data": {
      "text/plain": [
       "MemberID      int64\n",
       "Year         object\n",
       "DSFS         object\n",
       "DrugCount    object\n",
       "dtype: object"
      ]
     },
     "execution_count": 60,
     "metadata": {},
     "output_type": "execute_result"
    }
   ],
   "source": [
    "drugcount.dtypes"
   ]
  },
  {
   "cell_type": "code",
   "execution_count": 61,
   "metadata": {},
   "outputs": [
    {
     "data": {
      "image/png": "[encoded data removed]",
      "text/plain": [
       "<matplotlib.figure.Figure at 0xb42e550>"
      ]
     },
     "metadata": {},
     "output_type": "display_data"
    }
   ],
   "source": [
    "# find member count by sex\n",
    "(drugcount['DrugCount']\n",
    " .value_counts(sort=True)\n",
    " .plot.barh()\n",
    " .set_title('Number of Members by DrugCount')\n",
    ")\n",
    "plt.show()\n",
    "\n",
    "# Insight: More members received only with 1 drug count"
   ]
  },
  {
   "cell_type": "code",
   "execution_count": null,
   "metadata": {
    "collapsed": true
   },
   "outputs": [],
   "source": []
  }
 ],
 "metadata": {
  "kernelspec": {
   "display_name": "Python 3",
   "language": "python",
   "name": "python3"
  },
  "language_info": {
   "codemirror_mode": {
    "name": "ipython",
    "version": 3
   },
   "file_extension": ".py",
   "mimetype": "text/x-python",
   "name": "python",
   "nbconvert_exporter": "python",
   "pygments_lexer": "ipython3",
   "version": "3.6.1"
  }
 },
 "nbformat": 4,
 "nbformat_minor": 2
}
